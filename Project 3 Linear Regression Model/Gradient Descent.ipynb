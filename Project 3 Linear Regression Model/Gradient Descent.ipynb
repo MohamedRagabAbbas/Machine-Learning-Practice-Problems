{
 "cells": [
  {
   "cell_type": "code",
   "execution_count": 1,
   "id": "5d752698-ac69-4a56-8989-a8e0ac735bed",
   "metadata": {},
   "outputs": [],
   "source": [
    "import pandas as pd\n",
    "import numpy as np\n",
    "import matplotlib.pyplot as mpl"
   ]
  },
  {
   "cell_type": "code",
   "execution_count": 33,
   "id": "8b4e941f-8f90-4b55-9f27-9ad787bfd571",
   "metadata": {},
   "outputs": [],
   "source": [
    "current_m = 0\n",
    "current_b = 0\n",
    "cost = 0;\n",
    "def gradient_descent(x, y, learning_rate=0.001, number_iteration=1000):\n",
    "    global current_m, current_b, cost\n",
    "    # Initialization\n",
    "    n = float(len(x))\n",
    "\n",
    "    for i in range(number_iteration):\n",
    "        predicted_y = current_m * x + current_b\n",
    "        # Calculate cost\n",
    "        cost = (1/(n)) * sum([(val**2) for val in (y - predicted_y)])\n",
    "        # Calculate derivatives\n",
    "        derivative_m = (-2/n) * sum(x * (y - predicted_y))\n",
    "        derivative_b = (-2/n) * sum(y - predicted_y)\n",
    "\n",
    "        # Update parameters\n",
    "        current_m = current_m - learning_rate * derivative_m\n",
    "        current_b = current_b - learning_rate * derivative_b\n",
    "        #print('current_m : ', current_m, '\\n', 'current_b : ', current_b, '\\n', 'cost : ', cost,'\\n')\n",
    "\n",
    "    return {'current_m': current_m, 'current_b': current_b, 'cost' : cost}"
   ]
  },
  {
   "cell_type": "code",
   "execution_count": 3,
   "id": "48d6f4c7-714c-48f4-8e6f-caa95bf5ff37",
   "metadata": {},
   "outputs": [
    {
     "name": "stdout",
     "output_type": "stream",
     "text": [
      "(47, 2)\n"
     ]
    },
    {
     "data": {
      "text/html": [
       "<div>\n",
       "<style scoped>\n",
       "    .dataframe tbody tr th:only-of-type {\n",
       "        vertical-align: middle;\n",
       "    }\n",
       "\n",
       "    .dataframe tbody tr th {\n",
       "        vertical-align: top;\n",
       "    }\n",
       "\n",
       "    .dataframe thead th {\n",
       "        text-align: right;\n",
       "    }\n",
       "</style>\n",
       "<table border=\"1\" class=\"dataframe\">\n",
       "  <thead>\n",
       "    <tr style=\"text-align: right;\">\n",
       "      <th></th>\n",
       "      <th>year</th>\n",
       "      <th>income</th>\n",
       "    </tr>\n",
       "  </thead>\n",
       "  <tbody>\n",
       "    <tr>\n",
       "      <th>0</th>\n",
       "      <td>1970</td>\n",
       "      <td>3399.299037</td>\n",
       "    </tr>\n",
       "    <tr>\n",
       "      <th>1</th>\n",
       "      <td>1971</td>\n",
       "      <td>3768.297935</td>\n",
       "    </tr>\n",
       "    <tr>\n",
       "      <th>2</th>\n",
       "      <td>1972</td>\n",
       "      <td>4251.175484</td>\n",
       "    </tr>\n",
       "    <tr>\n",
       "      <th>3</th>\n",
       "      <td>1973</td>\n",
       "      <td>4804.463248</td>\n",
       "    </tr>\n",
       "    <tr>\n",
       "      <th>4</th>\n",
       "      <td>1974</td>\n",
       "      <td>5576.514583</td>\n",
       "    </tr>\n",
       "  </tbody>\n",
       "</table>\n",
       "</div>"
      ],
      "text/plain": [
       "   year       income\n",
       "0  1970  3399.299037\n",
       "1  1971  3768.297935\n",
       "2  1972  4251.175484\n",
       "3  1973  4804.463248\n",
       "4  1974  5576.514583"
      ]
     },
     "execution_count": 3,
     "metadata": {},
     "output_type": "execute_result"
    }
   ],
   "source": [
    "ds = pd.read_csv('canada_per_capita_income.csv')\n",
    "ds = ds.rename(columns = {'per capita income (US$)' : 'income'})\n",
    "print (ds.shape)\n",
    "ds.head(5)"
   ]
  },
  {
   "cell_type": "code",
   "execution_count": 4,
   "id": "16f54817-7174-47b0-b5bc-4391e62b305c",
   "metadata": {},
   "outputs": [
    {
     "data": {
      "text/plain": [
       "<matplotlib.collections.PathCollection at 0x287f9d41990>"
      ]
     },
     "execution_count": 4,
     "metadata": {},
     "output_type": "execute_result"
    },
    {
     "data": {
      "image/png": "[encoded data removed]",
      "text/plain": [
       "<Figure size 640x480 with 1 Axes>"
      ]
     },
     "metadata": {},
     "output_type": "display_data"
    }
   ],
   "source": [
    "%matplotlib inline\n",
    "mpl.xlabel('year')\n",
    "mpl.ylabel('income')\n",
    "mpl.scatter(ds.year,ds.income)"
   ]
  },
  {
   "cell_type": "code",
   "execution_count": 38,
   "id": "69554697-74a8-4287-bb84-15b9bc94f817",
   "metadata": {},
   "outputs": [
    {
     "name": "stdout",
     "output_type": "stream",
     "text": [
      "nan\n",
      "nan\n",
      "nan\n"
     ]
    }
   ],
   "source": [
    "result = gradient_descent(ds.year.values,ds.income.values, 0.000001,100)\n",
    "print(cost)\n",
    "print(current_m)\n",
    "print(current_b)"
   ]
  },
  {
   "cell_type": "code",
   "execution_count": null,
   "id": "54be5257-156c-4f28-b841-19c3495e34eb",
   "metadata": {},
   "outputs": [],
   "source": []
  }
 ],
 "metadata": {
  "kernelspec": {
   "display_name": "Python 3 (ipykernel)",
   "language": "python",
   "name": "python3"
  },
  "language_info": {
   "codemirror_mode": {
    "name": "ipython",
    "version": 3
   },
   "file_extension": ".py",
   "mimetype": "text/x-python",
   "name": "python",
   "nbconvert_exporter": "python",
   "pygments_lexer": "ipython3",
   "version": "3.11.7"
  }
 },
 "nbformat": 4,
 "nbformat_minor": 5
}
